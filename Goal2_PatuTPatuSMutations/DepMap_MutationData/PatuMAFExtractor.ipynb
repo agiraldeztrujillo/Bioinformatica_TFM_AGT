{
 "cells": [
  {
   "cell_type": "code",
   "execution_count": 1,
   "metadata": {},
   "outputs": [],
   "source": [
    "import pandas as pd"
   ]
  },
  {
   "cell_type": "code",
   "execution_count": 2,
   "metadata": {},
   "outputs": [],
   "source": [
    "# Líneas celulares de interés y sus códigos de DepMap.\n",
    "CellLines = {'ACH-000023':'PatuT','ACH-000022':'PatuS'}"
   ]
  },
  {
   "cell_type": "code",
   "execution_count": 5,
   "metadata": {},
   "outputs": [
    {
     "name": "stdout",
     "output_type": "stream",
     "text": [
      "      ProfileID     ModelID\n",
      "0     PR-00UtU3  ACH-001131\n",
      "1     PR-01r7OM  ACH-000957\n",
      "2     PR-02XmLG  ACH-002785\n",
      "3     PR-04VvBz  ACH-001289\n",
      "4     PR-09gmEI  ACH-000520\n",
      "...         ...         ...\n",
      "3825  PR-zyM15A  ACH-000796\n",
      "3826  PR-ZYtjVT  ACH-000278\n",
      "3827  PR-ZzHTvC  ACH-000231\n",
      "3828  PR-ZzjQOA  ACH-000310\n",
      "3829  PR-ZzPC09  ACH-001172\n",
      "\n",
      "[3830 rows x 2 columns]\n"
     ]
    }
   ],
   "source": [
    "# Perfiles de DepMap y sus líneas celulares correspondientes.\n",
    "profs = pd.read_csv('/home/antonio_gt/TFM/PatuT_PatuS_Study/MafTools/OmicsProfiles.csv')\n",
    "profs = profs[['ProfileID', 'ModelID']]\n",
    "print(profs)"
   ]
  },
  {
   "cell_type": "code",
   "execution_count": 7,
   "metadata": {},
   "outputs": [
    {
     "name": "stdout",
     "output_type": "stream",
     "text": [
      "['PR-a0tOiq', 'PR-dd92qT', 'PR-hVRrXM', 'PR-hXqy9s', 'PR-ZgBiSD']\n"
     ]
    }
   ],
   "source": [
    "# Perfiles correspondientes a los modelos celulares de PatuT y PatuS.\n",
    "Patuprofs = list((profs[profs['ModelID'].isin(CellLines.keys())])['ProfileID'])\n",
    "print(Patuprofs)"
   ]
  },
  {
   "cell_type": "code",
   "execution_count": 11,
   "metadata": {},
   "outputs": [
    {
     "name": "stdout",
     "output_type": "stream",
     "text": [
      "['PR-dd92qT', 'PR-hVRrXM', 'PR-ZgBiSD']\n"
     ]
    }
   ],
   "source": [
    "# Perfiles de PatuT.\n",
    "PatuTprofs = list((profs[profs['ModelID'] == 'ACH-000023'])['ProfileID'])\n",
    "print(PatuTprofs)"
   ]
  },
  {
   "cell_type": "code",
   "execution_count": 12,
   "metadata": {},
   "outputs": [
    {
     "name": "stdout",
     "output_type": "stream",
     "text": [
      "['PR-a0tOiq', 'PR-hXqy9s']\n"
     ]
    }
   ],
   "source": [
    "# Perfiles de PatuS.\n",
    "PatuSprofs = list((profs[profs['ModelID'] == 'ACH-000022'])['ProfileID'])\n",
    "print(PatuSprofs)"
   ]
  },
  {
   "cell_type": "code",
   "execution_count": 3,
   "metadata": {},
   "outputs": [
    {
     "name": "stdout",
     "output_type": "stream",
     "text": [
      "       Chromosome  Start_Position  End_Position Variant_Type Reference_Allele  \\\n",
      "0            chr1          818203        818203          SNP                G   \n",
      "1            chr1          924657        924657          SNP                C   \n",
      "2            chr1          924750        924750          SNP                C   \n",
      "3            chr1          924909        924909          SNP                G   \n",
      "4            chr1          930198        930198          SNP                C   \n",
      "...           ...             ...           ...          ...              ...   \n",
      "915695       chr5         1295210       1295210          SNP                T   \n",
      "915696       chr5         1295215       1295215          SNP                A   \n",
      "915697       chr5         1295223       1295223          SNP                C   \n",
      "915698       chr5         1295257       1295257          SNP                C   \n",
      "915699       chr5         1295309       1295309          SNP                G   \n",
      "\n",
      "       Tumor_Seq_Allele1 Tumor_Seq_Allele2 Tumor_Sample_Barcode  \\\n",
      "0                      G                 A            PR-t8SaQo   \n",
      "1                      C                 G            PR-sxFiuq   \n",
      "2                      C                 T            PR-DNEoiz   \n",
      "3                      G                 A            PR-2ei6MD   \n",
      "4                      C                 T            PR-CYz5sB   \n",
      "...                  ...               ...                  ...   \n",
      "915695                 T                 C            PR-RSc97t   \n",
      "915696                 A                 T            PR-wDOzJq   \n",
      "915697                 C                 A            PR-E5M02g   \n",
      "915698                 C                 G            PR-o3m2Xg   \n",
      "915699                 G                 A            PR-o3m2Xg   \n",
      "\n",
      "       Variant_Classification Protein_Change Hugo_Symbol NCBI_Build Strand  \\\n",
      "0                 Splice_Site            NaN      FAM87B     GRCh38      +   \n",
      "1           Missense_Mutation         p.L76V      SAMD11     GRCh38      +   \n",
      "2           Missense_Mutation        p.P107S      SAMD11     GRCh38      +   \n",
      "3           Missense_Mutation        p.E160K      SAMD11     GRCh38      +   \n",
      "4           Missense_Mutation        p.A218V      SAMD11     GRCh38      +   \n",
      "...                       ...            ...         ...        ...    ...   \n",
      "915695                5'Flank            NaN        TERT     GRCh38      +   \n",
      "915696                5'Flank            NaN        TERT     GRCh38      +   \n",
      "915697                5'Flank            NaN        TERT     GRCh38      +   \n",
      "915698                5'Flank            NaN        TERT     GRCh38      +   \n",
      "915699                5'Flank            NaN        TERT     GRCh38      +   \n",
      "\n",
      "        InFrame  \n",
      "0         False  \n",
      "1         False  \n",
      "2         False  \n",
      "3         False  \n",
      "4         False  \n",
      "...         ...  \n",
      "915695    False  \n",
      "915696    False  \n",
      "915697    False  \n",
      "915698    False  \n",
      "915699    False  \n",
      "\n",
      "[915700 rows x 14 columns]\n"
     ]
    }
   ],
   "source": [
    "# Lectura de los datos de mutaciones somáticas de DepMap con formato MAF.\n",
    "maf = pd.read_csv('/home/antonio_gt/TFM/PatuT_PatuS_Study/MafTools/OmicsSomaticMutationsMAFProfile.maf', sep = '\\t')\n",
    "print(maf)"
   ]
  },
  {
   "cell_type": "code",
   "execution_count": 9,
   "metadata": {},
   "outputs": [
    {
     "name": "stdout",
     "output_type": "stream",
     "text": [
      "       Chromosome  Start_Position  End_Position Variant_Type Reference_Allele  \\\n",
      "389          chr1         2185008       2185008          SNP                G   \n",
      "714          chr1         6124075       6124075          SNP                G   \n",
      "4169         chr1        35764503      35764503          SNP                C   \n",
      "6116         chr1        58481123      58481123          SNP                G   \n",
      "6465         chr1        65601474      65601474          SNP                G   \n",
      "...           ...             ...           ...          ...              ...   \n",
      "899876       chrX        64191919      64191920          DEL               AG   \n",
      "899877       chrX        64191919      64191920          DEL               AG   \n",
      "900265       chrX        66258847      66258847          SNP                T   \n",
      "902195       chrX        74740483      74740483          SNP                C   \n",
      "911223       chrX       136659294     136659294          SNP                C   \n",
      "\n",
      "       Tumor_Seq_Allele1 Tumor_Seq_Allele2 Tumor_Sample_Barcode  \\\n",
      "389                    G                 C            PR-hVRrXM   \n",
      "714                    G                 T            PR-hVRrXM   \n",
      "4169                   C                 A            PR-hVRrXM   \n",
      "6116                   G                 T            PR-hVRrXM   \n",
      "6465                   G                 C            PR-hVRrXM   \n",
      "...                  ...               ...                  ...   \n",
      "899876                AG                 A            PR-ZgBiSD   \n",
      "899877                AG                 A            PR-a0tOiq   \n",
      "900265                 T                 G            PR-ZgBiSD   \n",
      "902195                 C                 A            PR-ZgBiSD   \n",
      "911223                 C                 A            PR-ZgBiSD   \n",
      "\n",
      "       Variant_Classification     Protein_Change Hugo_Symbol NCBI_Build  \\\n",
      "389          Nonstop_Mutation  p.Ter593SextTer11       PRKCZ     GRCh38   \n",
      "714         Nonsense_Mutation         p.Y1524Ter        CHD5     GRCh38   \n",
      "4169        Missense_Mutation            p.M115I       CLSPN     GRCh38   \n",
      "6116        Missense_Mutation            p.P473T        OMA1     GRCh38   \n",
      "6465        Missense_Mutation            p.K359N        LEPR     GRCh38   \n",
      "...                       ...                ...         ...        ...   \n",
      "899876        Frame_Shift_Del     p.P456LfsTer85       AMER1     GRCh38   \n",
      "899877        Frame_Shift_Del     p.P456LfsTer85       AMER1     GRCh38   \n",
      "900265      Missense_Mutation            p.N968K        HEPH     GRCh38   \n",
      "902195      Missense_Mutation           p.E1358D      NEXMIF     GRCh38   \n",
      "911223      Missense_Mutation            p.S222Y      CD40LG     GRCh38   \n",
      "\n",
      "       Strand  InFrame  \n",
      "389         +    False  \n",
      "714         +    False  \n",
      "4169        +    False  \n",
      "6116        +    False  \n",
      "6465        +    False  \n",
      "...       ...      ...  \n",
      "899876      +    False  \n",
      "899877      +    False  \n",
      "900265      +    False  \n",
      "902195      +    False  \n",
      "911223      +    False  \n",
      "\n",
      "[428 rows x 14 columns]\n"
     ]
    }
   ],
   "source": [
    "# Filtrado del archivo MAF esocgiendo los perfiles correspondientes a PatuT y PatuS.\n",
    "Patumaf = maf[maf['Tumor_Sample_Barcode'].isin(Patuprofs)]\n",
    "print(Patumaf)"
   ]
  },
  {
   "cell_type": "code",
   "execution_count": 10,
   "metadata": {},
   "outputs": [],
   "source": [
    "Patumaf.to_csv('/home/antonio_gt/TFM/PatuT_PatuS_Study/MafTools/PatuOmicsSomaticMutationsMAFProfile.maf', sep = '\\t')"
   ]
  },
  {
   "cell_type": "code",
   "execution_count": 13,
   "metadata": {},
   "outputs": [
    {
     "name": "stdout",
     "output_type": "stream",
     "text": [
      "       Chromosome  Start_Position  End_Position Variant_Type Reference_Allele  \\\n",
      "389          chr1         2185008       2185008          SNP                G   \n",
      "714          chr1         6124075       6124075          SNP                G   \n",
      "4169         chr1        35764503      35764503          SNP                C   \n",
      "6116         chr1        58481123      58481123          SNP                G   \n",
      "6465         chr1        65601474      65601474          SNP                G   \n",
      "...           ...             ...           ...          ...              ...   \n",
      "898935       chrX        54541322      54541322          SNP                A   \n",
      "899876       chrX        64191919      64191920          DEL               AG   \n",
      "900265       chrX        66258847      66258847          SNP                T   \n",
      "902195       chrX        74740483      74740483          SNP                C   \n",
      "911223       chrX       136659294     136659294          SNP                C   \n",
      "\n",
      "       Tumor_Seq_Allele1 Tumor_Seq_Allele2 Tumor_Sample_Barcode  \\\n",
      "389                    G                 C            PR-hVRrXM   \n",
      "714                    G                 T            PR-hVRrXM   \n",
      "4169                   C                 A            PR-hVRrXM   \n",
      "6116                   G                 T            PR-hVRrXM   \n",
      "6465                   G                 C            PR-hVRrXM   \n",
      "...                  ...               ...                  ...   \n",
      "898935                 A                 T            PR-ZgBiSD   \n",
      "899876                AG                 A            PR-ZgBiSD   \n",
      "900265                 T                 G            PR-ZgBiSD   \n",
      "902195                 C                 A            PR-ZgBiSD   \n",
      "911223                 C                 A            PR-ZgBiSD   \n",
      "\n",
      "       Variant_Classification     Protein_Change Hugo_Symbol NCBI_Build  \\\n",
      "389          Nonstop_Mutation  p.Ter593SextTer11       PRKCZ     GRCh38   \n",
      "714         Nonsense_Mutation         p.Y1524Ter        CHD5     GRCh38   \n",
      "4169        Missense_Mutation            p.M115I       CLSPN     GRCh38   \n",
      "6116        Missense_Mutation            p.P473T        OMA1     GRCh38   \n",
      "6465        Missense_Mutation            p.K359N        LEPR     GRCh38   \n",
      "...                       ...                ...         ...        ...   \n",
      "898935      Missense_Mutation             p.Q80L       GNL3L     GRCh38   \n",
      "899876        Frame_Shift_Del     p.P456LfsTer85       AMER1     GRCh38   \n",
      "900265      Missense_Mutation            p.N968K        HEPH     GRCh38   \n",
      "902195      Missense_Mutation           p.E1358D      NEXMIF     GRCh38   \n",
      "911223      Missense_Mutation            p.S222Y      CD40LG     GRCh38   \n",
      "\n",
      "       Strand  InFrame  \n",
      "389         +    False  \n",
      "714         +    False  \n",
      "4169        +    False  \n",
      "6116        +    False  \n",
      "6465        +    False  \n",
      "...       ...      ...  \n",
      "898935      +    False  \n",
      "899876      +    False  \n",
      "900265      +    False  \n",
      "902195      +    False  \n",
      "911223      +    False  \n",
      "\n",
      "[306 rows x 14 columns]\n"
     ]
    }
   ],
   "source": [
    "# Filtrado del archivo MAF esocgiendo los perfiles correspondientes a PatuT.\n",
    "PatuTmaf = maf[maf['Tumor_Sample_Barcode'].isin(PatuTprofs)]\n",
    "print(PatuTmaf)\n",
    "\n",
    "PatuTmaf.to_csv('/home/antonio_gt/TFM/PatuT_PatuS_Study/MafTools/PatuTOmicsSomaticMutationsMAFProfile.maf', sep = '\\t')"
   ]
  },
  {
   "cell_type": "code",
   "execution_count": 14,
   "metadata": {},
   "outputs": [
    {
     "name": "stdout",
     "output_type": "stream",
     "text": [
      "       Chromosome  Start_Position  End_Position Variant_Type Reference_Allele  \\\n",
      "191915       chr1         1072264       1072264          SNP                G   \n",
      "194372       chr1         6249804       6249804          SNP                C   \n",
      "212234       chr1        47219924      47219925          DNP               AG   \n",
      "224915       chr1       114402828     114402828          SNP                C   \n",
      "239840       chr1       171208921     171208921          SNP                A   \n",
      "...           ...             ...           ...          ...              ...   \n",
      "886929       chrM            3394          3394          SNP                T   \n",
      "892469       chrX        23935254      23935254          SNP                G   \n",
      "892998       chrX        26217912      26217912          SNP                G   \n",
      "898936       chrX        54541322      54541322          SNP                A   \n",
      "899877       chrX        64191919      64191920          DEL               AG   \n",
      "\n",
      "       Tumor_Seq_Allele1 Tumor_Seq_Allele2 Tumor_Sample_Barcode  \\\n",
      "191915                 G                 T            PR-a0tOiq   \n",
      "194372                 C                 T            PR-a0tOiq   \n",
      "212234                AG                CC            PR-a0tOiq   \n",
      "224915                 C                 G            PR-a0tOiq   \n",
      "239840                 A                 G            PR-a0tOiq   \n",
      "...                  ...               ...                  ...   \n",
      "886929                 T                 C            PR-a0tOiq   \n",
      "892469                 G                 A            PR-a0tOiq   \n",
      "892998                 G                 T            PR-a0tOiq   \n",
      "898936                 A                 T            PR-a0tOiq   \n",
      "899877                AG                 A            PR-a0tOiq   \n",
      "\n",
      "       Variant_Classification  Protein_Change Hugo_Symbol NCBI_Build Strand  \\\n",
      "191915      Nonsense_Mutation       p.C101Ter      RNF223     GRCh38      +   \n",
      "194372      Missense_Mutation         p.R455H      GPR153     GRCh38      +   \n",
      "212234      Missense_Mutation         p.A264G        TAL1     GRCh38      +   \n",
      "224915      Missense_Mutation         p.D942H      TRIM33     GRCh38      +   \n",
      "239840      Missense_Mutation         p.R462G        FMO2     GRCh38      +   \n",
      "...                       ...             ...         ...        ...    ...   \n",
      "886929      Missense_Mutation          p.Y30H      MT-ND1     GRCh38      +   \n",
      "892469      Missense_Mutation         p.R205H     CXorf58     GRCh38      +   \n",
      "892998      Missense_Mutation         p.W204L      MAGEB5     GRCh38      +   \n",
      "898936      Missense_Mutation          p.Q80L       GNL3L     GRCh38      +   \n",
      "899877        Frame_Shift_Del  p.P456LfsTer85       AMER1     GRCh38      +   \n",
      "\n",
      "        InFrame  \n",
      "191915    False  \n",
      "194372    False  \n",
      "212234    False  \n",
      "224915    False  \n",
      "239840    False  \n",
      "...         ...  \n",
      "886929    False  \n",
      "892469    False  \n",
      "892998    False  \n",
      "898936    False  \n",
      "899877    False  \n",
      "\n",
      "[122 rows x 14 columns]\n"
     ]
    }
   ],
   "source": [
    "# Filtrado del archivo MAF esocgiendo los perfiles correspondientes a PatuS.\n",
    "PatuSmaf = maf[maf['Tumor_Sample_Barcode'].isin(PatuSprofs)]\n",
    "print(PatuSmaf)\n",
    "\n",
    "PatuSmaf.to_csv('/home/antonio_gt/TFM/PatuT_PatuS_Study/MafTools/PatuSOmicsSomaticMutationsMAFProfile.maf', sep = '\\t')"
   ]
  }
 ],
 "metadata": {
  "kernelspec": {
   "display_name": "Python_Base",
   "language": "python",
   "name": "python3"
  },
  "language_info": {
   "codemirror_mode": {
    "name": "ipython",
    "version": 3
   },
   "file_extension": ".py",
   "mimetype": "text/x-python",
   "name": "python",
   "nbconvert_exporter": "python",
   "pygments_lexer": "ipython3",
   "version": "3.12.0"
  }
 },
 "nbformat": 4,
 "nbformat_minor": 2
}
