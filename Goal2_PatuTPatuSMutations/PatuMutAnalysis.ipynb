{
 "cells": [
  {
   "cell_type": "code",
   "execution_count": 40,
   "metadata": {},
   "outputs": [],
   "source": [
    "import pandas as pd\n",
    "import seaborn as sns\n",
    "import matplotlib.pyplot as plt\n",
    "from matplotlib_venn import venn2"
   ]
  },
  {
   "cell_type": "code",
   "execution_count": 41,
   "metadata": {},
   "outputs": [],
   "source": [
    "# Especificamos las líneas celulares PatuT y PatuS siguiendo su nomenclatura de DepMap.\n",
    "CellLines = {'ACH-000023':'PatuT','ACH-000022':'PatuS'}"
   ]
  },
  {
   "cell_type": "markdown",
   "metadata": {},
   "source": [
    "# Somatic Mutations"
   ]
  },
  {
   "cell_type": "code",
   "execution_count": 43,
   "metadata": {},
   "outputs": [
    {
     "name": "stderr",
     "output_type": "stream",
     "text": [
      "/tmp/ipykernel_28175/384440886.py:1: DtypeWarning: Columns (20,48,52,54,55,56,57,59) have mixed types. Specify dtype option on import or set low_memory=False.\n",
      "  mutations = pd.read_csv('Mutations/OmicsSomaticMutations.csv')\n"
     ]
    },
    {
     "name": "stdout",
     "output_type": "stream",
     "text": [
      "       Chrom      Pos Ref Alt     AF  DP  RefCount  AltCount   GT         PS  \\\n",
      "0       chr1   818203   G   A  0.240  27        21         6  0/1        NaN   \n",
      "1       chr1   924657   C   G  0.437  17         9         8  0/1        NaN   \n",
      "2       chr1   924750   C   T  0.625  19         7        12  0/1        NaN   \n",
      "3       chr1   924909   G   A  0.285  52        37        15  0/1        NaN   \n",
      "4       chr1   930198   C   T  0.366  42        27        15  0/1        NaN   \n",
      "...      ...      ...  ..  ..    ...  ..       ...       ...  ...        ...   \n",
      "666062  chr5  1295210   T   C  0.800   3         0         3  0/1        NaN   \n",
      "666063  chr5  1295215   A   T  0.500   2         1         1  0|1  1295215.0   \n",
      "666064  chr5  1295223   C   A  0.400   4         2         2  0/1        NaN   \n",
      "666065  chr5  1295257   C   G  0.600   3         1         2  0/1        NaN   \n",
      "666066  chr5  1295309   G   A  0.500   6         3         3  0/1        NaN   \n",
      "\n",
      "        ... PharmgkbId DidaID DidaName        GwasDisease    GwasPmID  \\\n",
      "0       ...        NaN    NaN      NaN                NaN         NaN   \n",
      "1       ...        NaN    NaN      NaN                NaN         NaN   \n",
      "2       ...        NaN    NaN      NaN                NaN         NaN   \n",
      "3       ...        NaN    NaN      NaN                NaN         NaN   \n",
      "4       ...        NaN    NaN      NaN                NaN         NaN   \n",
      "...     ...        ...    ...      ...                ...         ...   \n",
      "666062  ...        NaN    NaN      NaN                NaN         NaN   \n",
      "666063  ...        NaN    NaN      NaN                NaN         NaN   \n",
      "666064  ...        NaN    NaN      NaN                NaN         NaN   \n",
      "666065  ...        NaN    NaN      NaN  Pancreatic cancer  27579533.0   \n",
      "666066  ...        NaN    NaN      NaN                NaN         NaN   \n",
      "\n",
      "       GtexGene ProveanPrediction Rescue     ModelID EntrezGeneID  \n",
      "0           NaN               NaN  False  ACH-000062     400728.0  \n",
      "1           NaN               NaN  False  ACH-000693     148398.0  \n",
      "2           NaN               NaN  False  ACH-000930     148398.0  \n",
      "3           NaN               NaN  False  ACH-001691     148398.0  \n",
      "4           NaN           Neutral  False  ACH-000956     148398.0  \n",
      "...         ...               ...    ...         ...          ...  \n",
      "666062      NaN               NaN   True  ACH-001991       7015.0  \n",
      "666063      NaN               NaN   True  ACH-001556       7015.0  \n",
      "666064      NaN               NaN   True  ACH-000548       7015.0  \n",
      "666065      NaN               NaN   True  ACH-000960       7015.0  \n",
      "666066      NaN               NaN   True  ACH-000960       7015.0  \n",
      "\n",
      "[666067 rows x 64 columns]\n"
     ]
    }
   ],
   "source": [
    "# Lectura de los datos de mutaciones somáticas disponibles en DepMap.\n",
    "mutations = pd.read_csv('Mutations/OmicsSomaticMutations.csv')\n",
    "print(mutations)"
   ]
  },
  {
   "cell_type": "code",
   "execution_count": 44,
   "metadata": {},
   "outputs": [
    {
     "name": "stdout",
     "output_type": "stream",
     "text": [
      "Index(['Chrom', 'Pos', 'Ref', 'Alt', 'AF', 'DP', 'RefCount', 'AltCount', 'GT',\n",
      "       'PS', 'VariantType', 'VariantInfo', 'DNAChange', 'ProteinChange',\n",
      "       'HugoSymbol', 'EnsemblGeneID', 'EnsemblFeatureID', 'HgncName',\n",
      "       'HgncFamily', 'UniprotID', 'DbsnpRsID', 'GcContent', 'LofGeneName',\n",
      "       'LofGeneId', 'LofNumberOfTranscriptsInGene',\n",
      "       'LofPercentOfTranscriptsAffected', 'NMD', 'MolecularConsequence',\n",
      "       'VepImpact', 'VepBiotype', 'VepHgncID', 'VepExistingVariation',\n",
      "       'VepManeSelect', 'VepENSP', 'VepSwissprot', 'Sift', 'Polyphen',\n",
      "       'GnomadeAF', 'GnomadgAF', 'VepClinSig', 'VepSomatic', 'VepPliGeneValue',\n",
      "       'VepLofTool', 'OncogeneHighImpact', 'TumorSuppressorHighImpact',\n",
      "       'TranscriptLikelyLof', 'Brca1FuncScore', 'CivicID', 'CivicDescription',\n",
      "       'CivicScore', 'LikelyLoF', 'HessDriver', 'HessSignature', 'RevelScore',\n",
      "       'PharmgkbId', 'DidaID', 'DidaName', 'GwasDisease', 'GwasPmID',\n",
      "       'GtexGene', 'ProveanPrediction', 'Rescue', 'ModelID', 'EntrezGeneID'],\n",
      "      dtype='object')\n"
     ]
    }
   ],
   "source": [
    "print(mutations.columns)"
   ]
  },
  {
   "cell_type": "code",
   "execution_count": 45,
   "metadata": {},
   "outputs": [
    {
     "name": "stdout",
     "output_type": "stream",
     "text": [
      "    Chrom       Pos Ref Alt   GT VariantType         VariantInfo  \\\n",
      "0    chr1   2185008   G   C  1|1         SNV           stop_lost   \n",
      "1    chr1   6124075   G   T  1|1         SNV         stop_gained   \n",
      "2    chr1  35764503   C   A  0/1         SNV    missense_variant   \n",
      "3    chr1  58481123   G   T  0/1         SNV    missense_variant   \n",
      "4    chr1  65601474   G   C  0/1         SNV    missense_variant   \n",
      "..    ...       ...  ..  ..  ...         ...                 ...   \n",
      "255  chrM      3394   T   C  1|1         SNV    missense_variant   \n",
      "256  chrX  23935254   G   A  0/1         SNV    missense_variant   \n",
      "257  chrX  26217912   G   T  0/1         SNV    missense_variant   \n",
      "258  chrX  54541322   A   T  0/1         SNV    missense_variant   \n",
      "259  chrX  64191919  AG   A  0/1    deletion  frameshift_variant   \n",
      "\n",
      "       EnsemblGeneID EnsemblFeatureID          VepENSP LofGeneName  \\\n",
      "0    ENSG00000067606  ENST00000378567  ENSP00000367830         NaN   \n",
      "1    ENSG00000116254  ENST00000262450  ENSP00000262450        CHD5   \n",
      "2    ENSG00000092853  ENST00000318121  ENSP00000312995         NaN   \n",
      "3    ENSG00000162600  ENST00000371226  ENSP00000360270         NaN   \n",
      "4    ENSG00000116678  ENST00000349533  ENSP00000330393         NaN   \n",
      "..               ...              ...              ...         ...   \n",
      "255  ENSG00000198888  ENST00000361390  ENSP00000354687         NaN   \n",
      "256  ENSG00000165182  ENST00000379211  ENSP00000368511         NaN   \n",
      "257  ENSG00000188408  ENST00000602297  ENSP00000473493         NaN   \n",
      "258  ENSG00000130119  ENST00000360845  ENSP00000354091         NaN   \n",
      "259  ENSG00000184675  ENST00000374869  ENSP00000364003       AMER1   \n",
      "\n",
      "    MolecularConsequence         VepClinSig  OncogeneHighImpact  \\\n",
      "0                    NaN                NaN               False   \n",
      "1    SO:0001587|nonsense                NaN               False   \n",
      "2                    NaN                NaN               False   \n",
      "3                    NaN                NaN               False   \n",
      "4                    NaN                NaN               False   \n",
      "..                   ...                ...                 ...   \n",
      "255                  NaN  benign&pathogenic               False   \n",
      "256                  NaN                NaN               False   \n",
      "257                  NaN                NaN               False   \n",
      "258                  NaN                NaN               False   \n",
      "259                  NaN                NaN               False   \n",
      "\n",
      "     TumorSuppressorHighImpact DidaName GwasDisease     ModelID  \n",
      "0                        False      NaN         NaN  ACH-000023  \n",
      "1                        False      NaN         NaN  ACH-000023  \n",
      "2                        False      NaN         NaN  ACH-000023  \n",
      "3                        False      NaN         NaN  ACH-000023  \n",
      "4                        False      NaN         NaN  ACH-000023  \n",
      "..                         ...      ...         ...         ...  \n",
      "255                      False      NaN         NaN  ACH-000022  \n",
      "256                      False      NaN         NaN  ACH-000022  \n",
      "257                      False      NaN         NaN  ACH-000022  \n",
      "258                      False      NaN         NaN  ACH-000022  \n",
      "259                       True      NaN         NaN  ACH-000022  \n",
      "\n",
      "[260 rows x 18 columns]\n"
     ]
    }
   ],
   "source": [
    "# Filtrado de las columnas con la información de interés para cada mutación somática detectada.\n",
    "mutations = mutations[['Chrom','Pos','Ref','Alt','GT','VariantType','VariantInfo','EnsemblGeneID',\n",
    "                       'EnsemblFeatureID','VepENSP','LofGeneName','MolecularConsequence',\n",
    "                       'VepClinSig','OncogeneHighImpact','TumorSuppressorHighImpact','DidaName',\\\n",
    "                        'GwasDisease','ModelID']]\n",
    "\n",
    "# Filtrado de las líneas celulares de interés: PatuT y PatuS.\n",
    "PatuMutations = mutations[mutations['ModelID'].isin(CellLines.keys())]\n",
    "PatuMutations = PatuMutations.reset_index(drop=True)\n",
    "print(PatuMutations)"
   ]
  },
  {
   "cell_type": "code",
   "execution_count": 46,
   "metadata": {},
   "outputs": [],
   "source": [
    "# Filtrado de las mutaciones pertenecientes a PatuT.\n",
    "PatuTMutations = PatuMutations[PatuMutations['ModelID'] == 'ACH-000023']\n",
    "PatuTMutations = PatuTMutations.reset_index(drop = True)\n",
    "\n",
    "# Filtrado de las mutaciones pertenecientes a PatuS.\n",
    "PatuSMutations = PatuMutations[PatuMutations['ModelID'] == 'ACH-000022']\n",
    "PatuSMutations = PatuSMutations.reset_index(drop = True)"
   ]
  },
  {
   "cell_type": "code",
   "execution_count": 47,
   "metadata": {},
   "outputs": [
    {
     "name": "stdout",
     "output_type": "stream",
     "text": [
      "    Chrom        Pos Ref Alt   GT VariantType         VariantInfo  \\\n",
      "0    chr1    2185008   G   C  1|1         SNV           stop_lost   \n",
      "1    chr1    6124075   G   T  1|1         SNV         stop_gained   \n",
      "2    chr1   35764503   C   A  0/1         SNV    missense_variant   \n",
      "3    chr1   58481123   G   T  0/1         SNV    missense_variant   \n",
      "4    chr1   65601474   G   C  0/1         SNV    missense_variant   \n",
      "..    ...        ...  ..  ..  ...         ...                 ...   \n",
      "133  chrX   14609088   G   T  0/1         SNV    missense_variant   \n",
      "134  chrX   54541322   A   T  0/1         SNV    missense_variant   \n",
      "135  chrX   64191919  AG   A  0/1    deletion  frameshift_variant   \n",
      "136  chrX  136659294   C   A  0/1         SNV    missense_variant   \n",
      "137  chrX  143517346   G   A  0/1         SNV    missense_variant   \n",
      "\n",
      "       EnsemblGeneID EnsemblFeatureID          VepENSP LofGeneName  \\\n",
      "0    ENSG00000067606  ENST00000378567  ENSP00000367830         NaN   \n",
      "1    ENSG00000116254  ENST00000262450  ENSP00000262450        CHD5   \n",
      "2    ENSG00000092853  ENST00000318121  ENSP00000312995         NaN   \n",
      "3    ENSG00000162600  ENST00000371226  ENSP00000360270         NaN   \n",
      "4    ENSG00000116678  ENST00000349533  ENSP00000330393         NaN   \n",
      "..               ...              ...              ...         ...   \n",
      "133  ENSG00000101958  ENST00000218075  ENSP00000218075         NaN   \n",
      "134  ENSG00000130119  ENST00000360845  ENSP00000354091         NaN   \n",
      "135  ENSG00000184675  ENST00000374869  ENSP00000364003       AMER1   \n",
      "136  ENSG00000102245  ENST00000370629  ENSP00000359663         NaN   \n",
      "137  ENSG00000189252  ENST00000370503  ENSP00000359534         NaN   \n",
      "\n",
      "    MolecularConsequence VepClinSig  OncogeneHighImpact  \\\n",
      "0                    NaN        NaN               False   \n",
      "1    SO:0001587|nonsense        NaN               False   \n",
      "2                    NaN        NaN               False   \n",
      "3                    NaN        NaN               False   \n",
      "4                    NaN        NaN               False   \n",
      "..                   ...        ...                 ...   \n",
      "133                  NaN        NaN               False   \n",
      "134                  NaN        NaN               False   \n",
      "135                  NaN        NaN               False   \n",
      "136                  NaN        NaN               False   \n",
      "137                  NaN        NaN               False   \n",
      "\n",
      "     TumorSuppressorHighImpact DidaName GwasDisease     ModelID  \n",
      "0                        False      NaN         NaN  ACH-000023  \n",
      "1                        False      NaN         NaN  ACH-000023  \n",
      "2                        False      NaN         NaN  ACH-000023  \n",
      "3                        False      NaN         NaN  ACH-000023  \n",
      "4                        False      NaN         NaN  ACH-000023  \n",
      "..                         ...      ...         ...         ...  \n",
      "133                      False      NaN         NaN  ACH-000023  \n",
      "134                      False      NaN         NaN  ACH-000023  \n",
      "135                       True      NaN         NaN  ACH-000023  \n",
      "136                      False      NaN         NaN  ACH-000023  \n",
      "137                      False      NaN         NaN  ACH-000023  \n",
      "\n",
      "[138 rows x 18 columns]\n"
     ]
    }
   ],
   "source": [
    "print(PatuTMutations)"
   ]
  },
  {
   "cell_type": "code",
   "execution_count": 48,
   "metadata": {},
   "outputs": [
    {
     "name": "stdout",
     "output_type": "stream",
     "text": [
      "    Chrom        Pos Ref Alt   GT   VariantType         VariantInfo  \\\n",
      "0    chr1    1072264   G   T  0/1           SNV         stop_gained   \n",
      "1    chr1    6249804   C   T  0/1           SNV    missense_variant   \n",
      "2    chr1   47219924  AG  CC  0|1  substitution    missense_variant   \n",
      "3    chr1  114402828   C   G  1|1           SNV    missense_variant   \n",
      "4    chr1  171208921   A   G  0/1           SNV    missense_variant   \n",
      "..    ...        ...  ..  ..  ...           ...                 ...   \n",
      "117  chrM       3394   T   C  1|1           SNV    missense_variant   \n",
      "118  chrX   23935254   G   A  0/1           SNV    missense_variant   \n",
      "119  chrX   26217912   G   T  0/1           SNV    missense_variant   \n",
      "120  chrX   54541322   A   T  0/1           SNV    missense_variant   \n",
      "121  chrX   64191919  AG   A  0/1      deletion  frameshift_variant   \n",
      "\n",
      "       EnsemblGeneID EnsemblFeatureID          VepENSP LofGeneName  \\\n",
      "0    ENSG00000237330  ENST00000453464  ENSP00000410533         NaN   \n",
      "1    ENSG00000158292  ENST00000377893  ENSP00000367125         NaN   \n",
      "2    ENSG00000162367  ENST00000691006  ENSP00000510655         NaN   \n",
      "3    ENSG00000197323  ENST00000358465  ENSP00000351250         NaN   \n",
      "4    ENSG00000094963  ENST00000209929  ENSP00000209929         NaN   \n",
      "..               ...              ...              ...         ...   \n",
      "117  ENSG00000198888  ENST00000361390  ENSP00000354687         NaN   \n",
      "118  ENSG00000165182  ENST00000379211  ENSP00000368511         NaN   \n",
      "119  ENSG00000188408  ENST00000602297  ENSP00000473493         NaN   \n",
      "120  ENSG00000130119  ENST00000360845  ENSP00000354091         NaN   \n",
      "121  ENSG00000184675  ENST00000374869  ENSP00000364003       AMER1   \n",
      "\n",
      "    MolecularConsequence         VepClinSig  OncogeneHighImpact  \\\n",
      "0                    NaN                NaN               False   \n",
      "1                    NaN                NaN               False   \n",
      "2                    NaN                NaN               False   \n",
      "3                    NaN                NaN               False   \n",
      "4                    NaN                NaN               False   \n",
      "..                   ...                ...                 ...   \n",
      "117                  NaN  benign&pathogenic               False   \n",
      "118                  NaN                NaN               False   \n",
      "119                  NaN                NaN               False   \n",
      "120                  NaN                NaN               False   \n",
      "121                  NaN                NaN               False   \n",
      "\n",
      "     TumorSuppressorHighImpact DidaName GwasDisease     ModelID  \n",
      "0                        False      NaN         NaN  ACH-000022  \n",
      "1                        False      NaN         NaN  ACH-000022  \n",
      "2                        False      NaN         NaN  ACH-000022  \n",
      "3                        False      NaN         NaN  ACH-000022  \n",
      "4                        False      NaN         NaN  ACH-000022  \n",
      "..                         ...      ...         ...         ...  \n",
      "117                      False      NaN         NaN  ACH-000022  \n",
      "118                      False      NaN         NaN  ACH-000022  \n",
      "119                      False      NaN         NaN  ACH-000022  \n",
      "120                      False      NaN         NaN  ACH-000022  \n",
      "121                       True      NaN         NaN  ACH-000022  \n",
      "\n",
      "[122 rows x 18 columns]\n"
     ]
    }
   ],
   "source": [
    "print(PatuSMutations)"
   ]
  },
  {
   "cell_type": "code",
   "execution_count": 49,
   "metadata": {},
   "outputs": [],
   "source": [
    "# Función que recoge y ordena información correspondiente a las mutaciones somáticas y sus genes dada la información pertinente.\n",
    "def MutationStats(df, label, output_file=\"output.txt\"):\n",
    "\n",
    "    # Función que toma la información correspondiente a un gen dividida en columnas y la organiza en forma de una lista de características\n",
    "    # para después almacenarla en un archivo de texto.\n",
    "    def ComplementaryGeneInfo(df, index, column, columnlabel, file):\n",
    "        if columnlabel == 'Gene':\n",
    "            if (df.iloc[index, df.columns.get_loc(column)]).any():\n",
    "                print(f'{columnlabel}: {(df.iloc[index, df.columns.get_loc(column)]).item()}', file=file)\n",
    "        else:\n",
    "            if (df.iloc[index, df.columns.get_loc(column)]).any():\n",
    "                print(f'    {columnlabel}: {(df.iloc[index, df.columns.get_loc(column)]).item()}', file=file)\n",
    "    \n",
    "    # Función que hace un recuento de todas las entradas correspondientes a una característica dada y lo almacena en forma de un archivo de texto. \n",
    "    def StatCal(df, column, columnlabel, file):\n",
    "        if columnlabel != 'Gene':\n",
    "            dfclean = df[df[column].notna()]\n",
    "            columndata = dfclean.groupby(column).size()\n",
    "            if not columndata.empty:\n",
    "                print(f'{columnlabel} Distribution in {label}:', file=file)\n",
    "                print('', file=file)\n",
    "                print(columndata.to_string(header=False), file=file)\n",
    "                print('------------------', file=file)\n",
    "    \n",
    "    # Información de interés para cada gen detectado con una mutación de pérdida de función:\n",
    "    complinfo = {'LofGeneName':'Gene', 'Chrom':'Chromosome', 'Pos':'Position', \n",
    "                 'Ref':'Reference Allele', 'Alt':'Alternate Allele', 'GT':'Genotype', \n",
    "                 'EnsemblGeneID':'ENSEMBL Gene ID','EnsemblFeatureID':'ENSEMBL Transcript ID', \n",
    "                 'VepENSP':'ENSEMBL Protein ID','VariantType':'Type of variant', \n",
    "                 'VariantInfo':'Variant Consequence','MolecularConsequence':'Molecular Consequence', \n",
    "                 'VepClinSig':'Clinical Sign','DidaName':'Digenic Diseases', \n",
    "                 'GwasDisease':'Diseases in GWAS-catalog studies',\n",
    "                 'OncogeneHighImpact':'Oncogenic Mutation',\n",
    "                 'TumorSuppressorHighImpact':'Tumor Suppressor Mutation'}\n",
    "    \n",
    "    # Información de interés a cuantificar estadísticamente:\n",
    "    statinfo = {'VariantType':'Type of Variant', 'VariantInfo':'Variant Consequence',\n",
    "                'MolecularConsequence':'Molecular Consequence', 'VepClinSig':'Clinical Sign',\n",
    "                'DidaName':'Digenic Diseases', 'GwasDisease':'Diseases in GWAS-catalog studies'}\n",
    "    \n",
    "    # Creación del archivo que almacenará la información generada por las funciones previas.\n",
    "    with open(output_file, \"w\") as file:\n",
    "        print('Loss of Function Genes:', file = file)\n",
    "        print('', file = file)\n",
    "\n",
    "        # Recopilación de los genes con mutaciones de pérdida de función según la información dada:\n",
    "        genelist = set(df[df['LofGeneName'].notna()]['LofGeneName'].tolist())\n",
    "\n",
    "        # Identificación del índice de cada gen y recolección de la información en ese índice para llamra a la función ComplemetaryGeneInfo().\n",
    "        for gene in genelist:\n",
    "            generowindex = df.index[df['LofGeneName'] == gene]\n",
    "            for i in generowindex:\n",
    "                index = pd.Index([i], dtype='int64')\n",
    "                for i in range(len(complinfo)):\n",
    "                    ComplementaryGeneInfo(df, index, list(complinfo.keys())[i], list(complinfo.values())[i], file)\n",
    "                print('', file=file)\n",
    "        print('------------------', file=file)\n",
    "\n",
    "        # Por cada entrada de interés, llamada de la función StatCal(). \n",
    "        for i in range(len(statinfo)):\n",
    "            StatCal(df, list(statinfo.keys())[i], list(statinfo.values())[i], file)\n",
    "        print(f'Oncogenic Mutations: {df[\"OncogeneHighImpact\"].sum()}', file = file)\n",
    "        print('------------------', file = file)\n",
    "        print(f'Tumor Suppressor Mutations: {df[\"TumorSuppressorHighImpact\"].sum()}', file = file)\n",
    "        print('------------------', file = file)\n",
    "\n",
    "        print(f'Analysis saved as {output_file}')\n",
    "\n",
    "        genelistU = list(genelist)\n",
    "\n",
    "        return genelistU\n"
   ]
  },
  {
   "cell_type": "code",
   "execution_count": 50,
   "metadata": {},
   "outputs": [
    {
     "name": "stdout",
     "output_type": "stream",
     "text": [
      "Analysis saved as PatuT_SomaticMutationStats.txt\n",
      "['PODNL1', 'SLC15A5', 'SOX12', 'CAPN13', 'C2CD4A', 'AMER1', 'NLRP3', 'TMPRSS5', 'PRSS38', 'ZNF132', 'USP7', 'GJB2', 'CYP1A2', 'ZNF622', 'CFAP36', 'CHD5', 'TNFAIP1', 'IQGAP2', 'FAM151B', 'LRP2', 'MRE11']\n"
     ]
    }
   ],
   "source": [
    "PatuTLoFGeneList = MutationStats(PatuTMutations, 'PatuT', 'PatuT_SomaticMutationStats.txt')\n",
    "print(PatuTLoFGeneList)"
   ]
  },
  {
   "cell_type": "code",
   "execution_count": 51,
   "metadata": {},
   "outputs": [
    {
     "name": "stdout",
     "output_type": "stream",
     "text": [
      "Analysis saved as PatuS_SomaticMutationStats.txt\n",
      "['CAPN13', 'NRTN', 'PRSS38', 'CFAP36', 'AMER1', 'TNFAIP1', 'CHEK1', 'USP7', 'FAM151B', 'TNS4', 'TYRO3', 'SOX12', 'GAB2', 'MRE11', 'CDH9']\n"
     ]
    }
   ],
   "source": [
    "PatuSLoFGeneList = MutationStats(PatuSMutations, 'PatuS', 'PatuS_SomaticMutationStats.txt')\n",
    "print(PatuSLoFGeneList)"
   ]
  },
  {
   "cell_type": "code",
   "execution_count": 52,
   "metadata": {},
   "outputs": [
    {
     "name": "stdout",
     "output_type": "stream",
     "text": [
      "Common Genes: {'CAPN13', 'PRSS38', 'CFAP36', 'AMER1', 'TNFAIP1', 'FAM151B', 'USP7', 'SOX12', 'MRE11'}\n",
      "Exclusive PatuT Genes: {'TMPRSS5', 'GJB2', 'PODNL1', 'C2CD4A', 'SLC15A5', 'CYP1A2', 'ZNF622', 'ZNF132', 'CHD5', 'IQGAP2', 'NLRP3', 'LRP2'}\n",
      "Exclusive PatuS Genes: {'NRTN', 'CHEK1', 'TNS4', 'TYRO3', 'GAB2', 'CDH9'}\n"
     ]
    }
   ],
   "source": [
    "# Una vez obtenidos los genes con mutaciones de pérdida de función, intersección de los mismos para obtener aquellos comúnes y \n",
    "# aquellos exclusivos a PatuT y a PatuS.\n",
    "\n",
    "Common_Genes = (set(PatuTLoFGeneList)).intersection(set(PatuSLoFGeneList))\n",
    "print(f'Common Genes: {Common_Genes}')\n",
    "\n",
    "UniquePatuTGenes = ((set(PatuTLoFGeneList)))-(set(Common_Genes))\n",
    "print(f'Exclusive PatuT Genes: {UniquePatuTGenes}')\n",
    "\n",
    "UniquePatuSGenes = ((set(PatuSLoFGeneList)))-(set(Common_Genes))\n",
    "print(f'Exclusive PatuS Genes: {UniquePatuSGenes}')"
   ]
  },
  {
   "cell_type": "markdown",
   "metadata": {},
   "source": [
    "# HotSpot Mutations"
   ]
  },
  {
   "cell_type": "code",
   "execution_count": 55,
   "metadata": {},
   "outputs": [
    {
     "name": "stdout",
     "output_type": "stream",
     "text": [
      "            PIK3CD (5293)  MTOR (2475)  KLHDC7A (127707)  ARID1A (8289)  \\\n",
      "ACH-000062            0.0          0.0               0.0            0.0   \n",
      "ACH-000693            0.0          0.0               0.0            0.0   \n",
      "ACH-000930            0.0          0.0               0.0            0.0   \n",
      "ACH-001691            0.0          0.0               0.0            0.0   \n",
      "ACH-000956            0.0          0.0               0.0            0.0   \n",
      "...                   ...          ...               ...            ...   \n",
      "ACH-000083            0.0          0.0               0.0            0.0   \n",
      "ACH-000134            0.0          0.0               0.0            0.0   \n",
      "ACH-000131            0.0          0.0               0.0            0.0   \n",
      "ACH-000165            0.0          0.0               0.0            0.0   \n",
      "ACH-002018            0.0          0.0               0.0            0.0   \n",
      "\n",
      "            ZSCAN20 (7579)  CSMD2 (114784)  EIF2B3 (8891)  HPDL (84842)  \\\n",
      "ACH-000062             0.0             0.0            0.0           0.0   \n",
      "ACH-000693             0.0             0.0            0.0           0.0   \n",
      "ACH-000930             0.0             0.0            0.0           0.0   \n",
      "ACH-001691             0.0             0.0            0.0           0.0   \n",
      "ACH-000956             0.0             0.0            0.0           0.0   \n",
      "...                    ...             ...            ...           ...   \n",
      "ACH-000083             0.0             0.0            0.0           0.0   \n",
      "ACH-000134             0.0             0.0            0.0           0.0   \n",
      "ACH-000131             0.0             0.0            0.0           0.0   \n",
      "ACH-000165             0.0             0.0            0.0           0.0   \n",
      "ACH-002018             0.0             0.0            0.0           0.0   \n",
      "\n",
      "            STIL (6491)  C1orf141 (400757)  ...  AR (367)  MED12 (9968)  \\\n",
      "ACH-000062          0.0                0.0  ...       0.0           0.0   \n",
      "ACH-000693          0.0                0.0  ...       0.0           0.0   \n",
      "ACH-000930          0.0                0.0  ...       0.0           0.0   \n",
      "ACH-001691          0.0                0.0  ...       0.0           0.0   \n",
      "ACH-000956          0.0                0.0  ...       2.0           0.0   \n",
      "...                 ...                ...  ...       ...           ...   \n",
      "ACH-000083          0.0                0.0  ...       0.0           0.0   \n",
      "ACH-000134          0.0                0.0  ...       0.0           0.0   \n",
      "ACH-000131          0.0                0.0  ...       0.0           0.0   \n",
      "ACH-000165          0.0                0.0  ...       0.0           0.0   \n",
      "ACH-002018          0.0                0.0  ...       0.0           0.0   \n",
      "\n",
      "            ATRX (546)  TRPC5 (7224)  AMOT (154796)  DCAF12L2 (340578)  \\\n",
      "ACH-000062         0.0           0.0            0.0                0.0   \n",
      "ACH-000693         0.0           0.0            0.0                0.0   \n",
      "ACH-000930         0.0           0.0            0.0                0.0   \n",
      "ACH-001691         0.0           0.0            0.0                0.0   \n",
      "ACH-000956         0.0           0.0            0.0                0.0   \n",
      "...                ...           ...            ...                ...   \n",
      "ACH-000083         0.0           0.0            0.0                0.0   \n",
      "ACH-000134         0.0           0.0            0.0                0.0   \n",
      "ACH-000131         0.0           0.0            0.0                0.0   \n",
      "ACH-000165         0.0           0.0            0.0                0.0   \n",
      "ACH-002018         0.0           0.0            0.0                0.0   \n",
      "\n",
      "            GPC3 (2719)  MAGEC1 (9947)  GABRE (2564)  AGAP5 (729092)  \n",
      "ACH-000062          0.0            0.0           0.0             0.0  \n",
      "ACH-000693          0.0            0.0           0.0             0.0  \n",
      "ACH-000930          0.0            0.0           0.0             0.0  \n",
      "ACH-001691          0.0            0.0           0.0             0.0  \n",
      "ACH-000956          0.0            0.0           0.0             0.0  \n",
      "...                 ...            ...           ...             ...  \n",
      "ACH-000083          0.0            0.0           0.0             0.0  \n",
      "ACH-000134          0.0            0.0           0.0             0.0  \n",
      "ACH-000131          0.0            0.0           0.0             0.0  \n",
      "ACH-000165          0.0            0.0           0.0             0.0  \n",
      "ACH-002018          0.0            0.0           0.0             0.0  \n",
      "\n",
      "[1750 rows x 525 columns]\n"
     ]
    }
   ],
   "source": [
    "# Lectura de los datos de mutaciones de punto caliente disponibles en DepMap.\n",
    "mutationsHS = pd.read_csv('Mutations/OmicsSomaticMutationsMatrixHotspot.csv', index_col = 0)\n",
    "print(mutationsHS)"
   ]
  },
  {
   "cell_type": "code",
   "execution_count": 56,
   "metadata": {},
   "outputs": [
    {
     "name": "stdout",
     "output_type": "stream",
     "text": [
      "            PIK3CD  MTOR  KLHDC7A  ARID1A  ZSCAN20  CSMD2  EIF2B3  HPDL  STIL  \\\n",
      "ACH-000062     0.0   0.0      0.0     0.0      0.0    0.0     0.0   0.0   0.0   \n",
      "ACH-000693     0.0   0.0      0.0     0.0      0.0    0.0     0.0   0.0   0.0   \n",
      "ACH-000930     0.0   0.0      0.0     0.0      0.0    0.0     0.0   0.0   0.0   \n",
      "ACH-001691     0.0   0.0      0.0     0.0      0.0    0.0     0.0   0.0   0.0   \n",
      "ACH-000956     0.0   0.0      0.0     0.0      0.0    0.0     0.0   0.0   0.0   \n",
      "...            ...   ...      ...     ...      ...    ...     ...   ...   ...   \n",
      "ACH-000083     0.0   0.0      0.0     0.0      0.0    0.0     0.0   0.0   0.0   \n",
      "ACH-000134     0.0   0.0      0.0     0.0      0.0    0.0     0.0   0.0   0.0   \n",
      "ACH-000131     0.0   0.0      0.0     0.0      0.0    0.0     0.0   0.0   0.0   \n",
      "ACH-000165     0.0   0.0      0.0     0.0      0.0    0.0     0.0   0.0   0.0   \n",
      "ACH-002018     0.0   0.0      0.0     0.0      0.0    0.0     0.0   0.0   0.0   \n",
      "\n",
      "            C1orf141  ...   AR  MED12  ATRX  TRPC5  AMOT  DCAF12L2  GPC3  \\\n",
      "ACH-000062       0.0  ...  0.0    0.0   0.0    0.0   0.0       0.0   0.0   \n",
      "ACH-000693       0.0  ...  0.0    0.0   0.0    0.0   0.0       0.0   0.0   \n",
      "ACH-000930       0.0  ...  0.0    0.0   0.0    0.0   0.0       0.0   0.0   \n",
      "ACH-001691       0.0  ...  0.0    0.0   0.0    0.0   0.0       0.0   0.0   \n",
      "ACH-000956       0.0  ...  2.0    0.0   0.0    0.0   0.0       0.0   0.0   \n",
      "...              ...  ...  ...    ...   ...    ...   ...       ...   ...   \n",
      "ACH-000083       0.0  ...  0.0    0.0   0.0    0.0   0.0       0.0   0.0   \n",
      "ACH-000134       0.0  ...  0.0    0.0   0.0    0.0   0.0       0.0   0.0   \n",
      "ACH-000131       0.0  ...  0.0    0.0   0.0    0.0   0.0       0.0   0.0   \n",
      "ACH-000165       0.0  ...  0.0    0.0   0.0    0.0   0.0       0.0   0.0   \n",
      "ACH-002018       0.0  ...  0.0    0.0   0.0    0.0   0.0       0.0   0.0   \n",
      "\n",
      "            MAGEC1  GABRE  AGAP5  \n",
      "ACH-000062     0.0    0.0    0.0  \n",
      "ACH-000693     0.0    0.0    0.0  \n",
      "ACH-000930     0.0    0.0    0.0  \n",
      "ACH-001691     0.0    0.0    0.0  \n",
      "ACH-000956     0.0    0.0    0.0  \n",
      "...            ...    ...    ...  \n",
      "ACH-000083     0.0    0.0    0.0  \n",
      "ACH-000134     0.0    0.0    0.0  \n",
      "ACH-000131     0.0    0.0    0.0  \n",
      "ACH-000165     0.0    0.0    0.0  \n",
      "ACH-002018     0.0    0.0    0.0  \n",
      "\n",
      "[1750 rows x 525 columns]\n"
     ]
    }
   ],
   "source": [
    "mutationsHS.columns = [col.split(' ')[0] for col in mutationsHS.columns]\n",
    "print(mutationsHS)"
   ]
  },
  {
   "cell_type": "code",
   "execution_count": 57,
   "metadata": {},
   "outputs": [
    {
     "name": "stdout",
     "output_type": "stream",
     "text": [
      "            PIK3CD  MTOR  KLHDC7A  ARID1A  ZSCAN20  CSMD2  EIF2B3  HPDL  STIL  \\\n",
      "ACH-000023     0.0   0.0      0.0     0.0      0.0    0.0     0.0   0.0   0.0   \n",
      "ACH-000022     0.0   0.0      0.0     0.0      0.0    0.0     0.0   0.0   0.0   \n",
      "\n",
      "            C1orf141  ...   AR  MED12  ATRX  TRPC5  AMOT  DCAF12L2  GPC3  \\\n",
      "ACH-000023       0.0  ...  0.0    0.0   0.0    0.0   0.0       0.0   0.0   \n",
      "ACH-000022       0.0  ...  0.0    0.0   0.0    0.0   0.0       0.0   0.0   \n",
      "\n",
      "            MAGEC1  GABRE  AGAP5  \n",
      "ACH-000023     0.0    0.0    0.0  \n",
      "ACH-000022     0.0    0.0    0.0  \n",
      "\n",
      "[2 rows x 525 columns]\n"
     ]
    }
   ],
   "source": [
    "# Filtrado de los datos para obtener aquellos correspondientes a las líneas celulares de interés.\n",
    "PatuMutationsHS = mutationsHS.loc[CellLines.keys(),:]\n",
    "print(PatuMutationsHS)"
   ]
  },
  {
   "cell_type": "code",
   "execution_count": 58,
   "metadata": {},
   "outputs": [
    {
     "name": "stdout",
     "output_type": "stream",
     "text": [
      "            KRAS  TP53\n",
      "ACH-000023   2.0   2.0\n",
      "ACH-000022   2.0   2.0\n"
     ]
    }
   ],
   "source": [
    "# Obtención de aquellos genes con mutaciones de punto caliente en PatuT o en PatuS.\n",
    "PatuMutationsHSFilter = PatuMutationsHS.loc[:, (PatuMutationsHS != 0).any(axis = 0)]\n",
    "print(PatuMutationsHSFilter)"
   ]
  },
  {
   "cell_type": "markdown",
   "metadata": {},
   "source": [
    "PatuT y PatuS tienen ambas mutaciones de punto caliente en los genes KRAS y TP53."
   ]
  },
  {
   "cell_type": "markdown",
   "metadata": {},
   "source": [
    "# Damaging Mutations"
   ]
  },
  {
   "cell_type": "code",
   "execution_count": 64,
   "metadata": {},
   "outputs": [
    {
     "name": "stdout",
     "output_type": "stream",
     "text": [
      "            FAM87B (400728)  LINC01128 (643837)  SAMD11 (148398)  \\\n",
      "ACH-000062              1.0                 0.0              0.0   \n",
      "ACH-000693              0.0                 0.0              0.0   \n",
      "ACH-000930              0.0                 0.0              0.0   \n",
      "ACH-001691              0.0                 0.0              0.0   \n",
      "ACH-000956              0.0                 0.0              0.0   \n",
      "...                     ...                 ...              ...   \n",
      "ACH-000083              0.0                 0.0              0.0   \n",
      "ACH-000134              0.0                 0.0              0.0   \n",
      "ACH-000131              0.0                 0.0              0.0   \n",
      "ACH-000165              0.0                 0.0              0.0   \n",
      "ACH-002018              0.0                 0.0              0.0   \n",
      "\n",
      "            NOC2L (26155)  KLHL17 (339451)  PERM1 (84808)  HES4 (57801)  \\\n",
      "ACH-000062            0.0              0.0            0.0           0.0   \n",
      "ACH-000693            0.0              0.0            0.0           0.0   \n",
      "ACH-000930            0.0              0.0            0.0           0.0   \n",
      "ACH-001691            0.0              0.0            0.0           0.0   \n",
      "ACH-000956            0.0              1.0            0.0           0.0   \n",
      "...                   ...              ...            ...           ...   \n",
      "ACH-000083            0.0              0.0            0.0           0.0   \n",
      "ACH-000134            0.0              0.0            0.0           0.0   \n",
      "ACH-000131            0.0              0.0            0.0           0.0   \n",
      "ACH-000165            0.0              0.0            0.0           0.0   \n",
      "ACH-002018            0.0              0.0            0.0           0.0   \n",
      "\n",
      "            ISG15 (9636)  AGRN (375790)  RNF223 (401934)  ...  \\\n",
      "ACH-000062           0.0            0.0              0.0  ...   \n",
      "ACH-000693           0.0            0.0              0.0  ...   \n",
      "ACH-000930           0.0            0.0              0.0  ...   \n",
      "ACH-001691           0.0            0.0              0.0  ...   \n",
      "ACH-000956           0.0            1.0              0.0  ...   \n",
      "...                  ...            ...              ...  ...   \n",
      "ACH-000083           0.0            0.0              0.0  ...   \n",
      "ACH-000134           0.0            0.0              0.0  ...   \n",
      "ACH-000131           0.0            0.0              0.0  ...   \n",
      "ACH-000165           0.0            0.0              0.0  ...   \n",
      "ACH-002018           0.0            0.0              0.0  ...   \n",
      "\n",
      "            TRMT1P1 (Unknown)  SRY (6736)  RPS4Y1 (6192)  RBMY1A3P (Unknown)  \\\n",
      "ACH-000062                0.0         0.0            0.0                 0.0   \n",
      "ACH-000693                0.0         0.0            0.0                 0.0   \n",
      "ACH-000930                0.0         0.0            0.0                 0.0   \n",
      "ACH-001691                0.0         0.0            0.0                 0.0   \n",
      "ACH-000956                0.0         0.0            0.0                 0.0   \n",
      "...                       ...         ...            ...                 ...   \n",
      "ACH-000083                0.0         0.0            0.0                 0.0   \n",
      "ACH-000134                0.0         0.0            0.0                 0.0   \n",
      "ACH-000131                0.0         0.0            0.0                 0.0   \n",
      "ACH-000165                0.0         0.0            0.0                 0.0   \n",
      "ACH-002018                0.0         0.0            0.0                 0.0   \n",
      "\n",
      "            CHEK2P1 (Unknown)  ARSDP1 (Unknown)  ANOS2P (Unknown)  \\\n",
      "ACH-000062                0.0               0.0               0.0   \n",
      "ACH-000693                0.0               0.0               0.0   \n",
      "ACH-000930                0.0               0.0               0.0   \n",
      "ACH-001691                0.0               0.0               0.0   \n",
      "ACH-000956                0.0               0.0               0.0   \n",
      "...                       ...               ...               ...   \n",
      "ACH-000083                0.0               0.0               0.0   \n",
      "ACH-000134                0.0               0.0               0.0   \n",
      "ACH-000131                0.0               0.0               0.0   \n",
      "ACH-000165                0.0               0.0               0.0   \n",
      "ACH-002018                0.0               0.0               0.0   \n",
      "\n",
      "            TTTY13 (83868)  TPTE2P4 (Unknown)  PARP4P1 (Unknown)  \n",
      "ACH-000062             0.0                0.0                0.0  \n",
      "ACH-000693             0.0                0.0                0.0  \n",
      "ACH-000930             0.0                0.0                0.0  \n",
      "ACH-001691             0.0                0.0                0.0  \n",
      "ACH-000956             0.0                0.0                0.0  \n",
      "...                    ...                ...                ...  \n",
      "ACH-000083             0.0                0.0                0.0  \n",
      "ACH-000134             0.0                0.0                0.0  \n",
      "ACH-000131             0.0                0.0                0.0  \n",
      "ACH-000165             0.0                0.0                0.0  \n",
      "ACH-002018             0.0                0.0                0.0  \n",
      "\n",
      "[1750 rows x 18748 columns]\n"
     ]
    }
   ],
   "source": [
    "# Lectura de los datos sobre mutaciones deletéreas de DepMap.\n",
    "mutationsDMG = pd.read_csv('Mutations/OmicsSomaticMutationsMatrixDamaging.csv', index_col = 0)\n",
    "print(mutationsDMG)"
   ]
  },
  {
   "cell_type": "code",
   "execution_count": 65,
   "metadata": {},
   "outputs": [
    {
     "name": "stdout",
     "output_type": "stream",
     "text": [
      "            FAM87B  LINC01128  SAMD11  NOC2L  KLHL17  PERM1  HES4  ISG15  \\\n",
      "ACH-000062     1.0        0.0     0.0    0.0     0.0    0.0   0.0    0.0   \n",
      "ACH-000693     0.0        0.0     0.0    0.0     0.0    0.0   0.0    0.0   \n",
      "ACH-000930     0.0        0.0     0.0    0.0     0.0    0.0   0.0    0.0   \n",
      "ACH-001691     0.0        0.0     0.0    0.0     0.0    0.0   0.0    0.0   \n",
      "ACH-000956     0.0        0.0     0.0    0.0     1.0    0.0   0.0    0.0   \n",
      "...            ...        ...     ...    ...     ...    ...   ...    ...   \n",
      "ACH-000083     0.0        0.0     0.0    0.0     0.0    0.0   0.0    0.0   \n",
      "ACH-000134     0.0        0.0     0.0    0.0     0.0    0.0   0.0    0.0   \n",
      "ACH-000131     0.0        0.0     0.0    0.0     0.0    0.0   0.0    0.0   \n",
      "ACH-000165     0.0        0.0     0.0    0.0     0.0    0.0   0.0    0.0   \n",
      "ACH-002018     0.0        0.0     0.0    0.0     0.0    0.0   0.0    0.0   \n",
      "\n",
      "            AGRN  RNF223  ...  TRMT1P1  SRY  RPS4Y1  RBMY1A3P  CHEK2P1  \\\n",
      "ACH-000062   0.0     0.0  ...      0.0  0.0     0.0       0.0      0.0   \n",
      "ACH-000693   0.0     0.0  ...      0.0  0.0     0.0       0.0      0.0   \n",
      "ACH-000930   0.0     0.0  ...      0.0  0.0     0.0       0.0      0.0   \n",
      "ACH-001691   0.0     0.0  ...      0.0  0.0     0.0       0.0      0.0   \n",
      "ACH-000956   1.0     0.0  ...      0.0  0.0     0.0       0.0      0.0   \n",
      "...          ...     ...  ...      ...  ...     ...       ...      ...   \n",
      "ACH-000083   0.0     0.0  ...      0.0  0.0     0.0       0.0      0.0   \n",
      "ACH-000134   0.0     0.0  ...      0.0  0.0     0.0       0.0      0.0   \n",
      "ACH-000131   0.0     0.0  ...      0.0  0.0     0.0       0.0      0.0   \n",
      "ACH-000165   0.0     0.0  ...      0.0  0.0     0.0       0.0      0.0   \n",
      "ACH-002018   0.0     0.0  ...      0.0  0.0     0.0       0.0      0.0   \n",
      "\n",
      "            ARSDP1  ANOS2P  TTTY13  TPTE2P4  PARP4P1  \n",
      "ACH-000062     0.0     0.0     0.0      0.0      0.0  \n",
      "ACH-000693     0.0     0.0     0.0      0.0      0.0  \n",
      "ACH-000930     0.0     0.0     0.0      0.0      0.0  \n",
      "ACH-001691     0.0     0.0     0.0      0.0      0.0  \n",
      "ACH-000956     0.0     0.0     0.0      0.0      0.0  \n",
      "...            ...     ...     ...      ...      ...  \n",
      "ACH-000083     0.0     0.0     0.0      0.0      0.0  \n",
      "ACH-000134     0.0     0.0     0.0      0.0      0.0  \n",
      "ACH-000131     0.0     0.0     0.0      0.0      0.0  \n",
      "ACH-000165     0.0     0.0     0.0      0.0      0.0  \n",
      "ACH-002018     0.0     0.0     0.0      0.0      0.0  \n",
      "\n",
      "[1750 rows x 18748 columns]\n"
     ]
    }
   ],
   "source": [
    "mutationsDMG.columns = [col.split(' ')[0] for col in mutationsDMG.columns]\n",
    "print(mutationsDMG)"
   ]
  },
  {
   "cell_type": "code",
   "execution_count": 66,
   "metadata": {},
   "outputs": [
    {
     "name": "stdout",
     "output_type": "stream",
     "text": [
      "            FAM87B  LINC01128  SAMD11  NOC2L  KLHL17  PERM1  HES4  ISG15  \\\n",
      "ACH-000023     0.0        0.0     0.0    0.0     0.0    0.0   0.0    0.0   \n",
      "ACH-000022     0.0        0.0     0.0    0.0     0.0    0.0   0.0    0.0   \n",
      "\n",
      "            AGRN  RNF223  ...  TRMT1P1  SRY  RPS4Y1  RBMY1A3P  CHEK2P1  \\\n",
      "ACH-000023   0.0     0.0  ...      0.0  0.0     0.0       0.0      0.0   \n",
      "ACH-000022   0.0     1.0  ...      0.0  0.0     0.0       0.0      0.0   \n",
      "\n",
      "            ARSDP1  ANOS2P  TTTY13  TPTE2P4  PARP4P1  \n",
      "ACH-000023     0.0     0.0     0.0      0.0      0.0  \n",
      "ACH-000022     0.0     0.0     0.0      0.0      0.0  \n",
      "\n",
      "[2 rows x 18748 columns]\n"
     ]
    }
   ],
   "source": [
    "# Filtrado de los datos para obtener aquellos correspondientes a las líneas celulares de interés.\n",
    "PatuMutationsDMG = mutationsDMG.loc[CellLines.keys(),:]\n",
    "print(PatuMutationsDMG)"
   ]
  },
  {
   "cell_type": "code",
   "execution_count": 67,
   "metadata": {},
   "outputs": [
    {
     "name": "stdout",
     "output_type": "stream",
     "text": [
      "            RNF223  PRKCZ  CHD5  PRSS38  NLRP3  GAB2  MRE11  TMPRSS5  CHEK1  \\\n",
      "ACH-000023     0.0    2.0   2.0     1.0    1.0   0.0    1.0      1.0    0.0   \n",
      "ACH-000022     1.0    0.0   0.0     1.0    0.0   1.0    1.0      0.0    1.0   \n",
      "\n",
      "            SLC15A5  ...  CAPN13  CFAP36  LRP2  SOX12  ZNF622  CDH9  IQGAP2  \\\n",
      "ACH-000023      2.0  ...     1.0     1.0   1.0    1.0     1.0   0.0     1.0   \n",
      "ACH-000022      0.0  ...     1.0     1.0   0.0    1.0     0.0   1.0     0.0   \n",
      "\n",
      "            FAM151B  OR2H1  AMER1  \n",
      "ACH-000023      1.0    1.0    1.0  \n",
      "ACH-000022      1.0    0.0    1.0  \n",
      "\n",
      "[2 rows x 32 columns]\n"
     ]
    }
   ],
   "source": [
    "# Obtención de aquellos genes con mutaciones deletéreas en PatuT o en PatuS.\n",
    "PatuMutationsDMGFilter = PatuMutationsDMG.loc[:, (PatuMutationsDMG != 0).any(axis = 0)]\n",
    "print(PatuMutationsDMGFilter)"
   ]
  },
  {
   "cell_type": "code",
   "execution_count": 68,
   "metadata": {},
   "outputs": [],
   "source": [
    "# Obtención de las listas de genes que contienen mutaciones deletéreas en PatuT o en PatuS respectivamente.\n",
    "PatuTDMGGenes = set(PatuMutationsDMG.columns[PatuMutationsDMG.loc['ACH-000023'] != 0.0])\n",
    "PatuSDMGGenes = set(PatuMutationsDMG.columns[PatuMutationsDMG.loc['ACH-000022'] != 0.0])\n",
    "\n",
    "# Obtención de los genes con mutaciones deletéreas en PatuT y PatuS al mismo tiempo.\n",
    "PatuDMGInt = PatuMutationsDMGFilter.loc['ACH-000023'] == PatuMutationsDMGFilter.loc['ACH-000022']\n",
    "PatuMutationsDMGInt = PatuMutationsDMGFilter.loc[:, PatuDMGInt]"
   ]
  },
  {
   "cell_type": "code",
   "execution_count": 70,
   "metadata": {},
   "outputs": [
    {
     "name": "stdout",
     "output_type": "stream",
     "text": [
      "Common Genes: {'CAPN13', 'ZNF773', 'PRSS38', 'CFAP36', 'AMER1', 'TNFAIP1', 'FAM151B', 'USP7', 'TP53', 'SOX12', 'MRE11'}\n",
      "Exclusive PatuT Genes: {'TMPRSS5', 'GJB2', 'PODNL1', 'C2CD4A', 'OR2H1', 'SLC15A5', 'CYP1A2', 'PRKCZ', 'ZNF622', 'ZNF132', 'CHD5', 'IQGAP2', 'NLRP3', 'LRP2'}\n",
      "Exclusive PatuS Genes: {'NRTN', 'CHEK1', 'TNS4', 'TYRO3', 'GAB2', 'RNF223', 'CDH9'}\n"
     ]
    }
   ],
   "source": [
    "# Lista de genes con mutaciones deletéreas en PatuT y PatuS al mismo tiempo.\n",
    "Common_DMG_Genes = set(PatuMutationsDMGInt.columns)\n",
    "print(f'Common Genes: {Common_DMG_Genes}')\n",
    "\n",
    "# Obtención de los genes con mutaciones exclusivas en PatuT y en PatuS respectivamente\n",
    "UniquePatuTDMGGenes = PatuTDMGGenes - Common_DMG_Genes\n",
    "print(f'Exclusive PatuT Genes: {UniquePatuTDMGGenes}')\n",
    "UniquePatuSDMGGenes = PatuSDMGGenes - Common_DMG_Genes\n",
    "print(f'Exclusive PatuS Genes: {UniquePatuSDMGGenes}')"
   ]
  },
  {
   "cell_type": "code",
   "execution_count": 107,
   "metadata": {},
   "outputs": [],
   "source": [
    "# Función que convierte una lista de genes en una cadena para utilizarse como etiqueta en un diagrama de Venn.\n",
    "# Si se incluye una segunda lista, se pueden remarcar los genes comunes a la primera, permitiendo destacar alguna característica.\n",
    "def LabelGenerator(list, common):\n",
    "\n",
    "    gene_labels = ''\n",
    "    for gene in list:\n",
    "        if gene in common:\n",
    "            # Los genes que aparecen en la segunda lista dada son marcados con un asterisco.\n",
    "            gene_labels += (f'{gene}*\\n')\n",
    "        else:\n",
    "            gene_labels += (f'{gene}\\n')\n",
    "\n",
    "    return gene_labels"
   ]
  },
  {
   "cell_type": "code",
   "execution_count": 108,
   "metadata": {},
   "outputs": [
    {
     "name": "stdout",
     "output_type": "stream",
     "text": [
      "TMPRSS5*\n",
      "GJB2*\n",
      "PODNL1*\n",
      "C2CD4A*\n",
      "OR2H1\n",
      "SLC15A5*\n",
      "CYP1A2*\n",
      "PRKCZ\n",
      "ZNF622*\n",
      "ZNF132*\n",
      "CHD5*\n",
      "IQGAP2*\n",
      "NLRP3*\n",
      "LRP2*\n",
      "\n",
      "NRTN*\n",
      "CHEK1*\n",
      "TNS4*\n",
      "TYRO3*\n",
      "GAB2*\n",
      "RNF223\n",
      "CDH9*\n",
      "\n",
      "CAPN13*\n",
      "ZNF773\n",
      "PRSS38*\n",
      "CFAP36*\n",
      "AMER1*\n",
      "TNFAIP1*\n",
      "FAM151B*\n",
      "USP7*\n",
      "TP53\n",
      "SOX12*\n",
      "MRE11*\n",
      "\n"
     ]
    }
   ],
   "source": [
    "PatuTDMGlabels = LabelGenerator(UniquePatuTDMGGenes, UniquePatuTGenes)\n",
    "print(PatuTDMGlabels)\n",
    "PatuSDMGlabels = LabelGenerator(UniquePatuSDMGGenes, UniquePatuSGenes)\n",
    "print(PatuSDMGlabels)\n",
    "InterDMGlabels = LabelGenerator(Common_DMG_Genes, Common_Genes)\n",
    "print(InterDMGlabels)"
   ]
  },
  {
   "cell_type": "code",
   "execution_count": 109,
   "metadata": {},
   "outputs": [
    {
     "data": {
      "image/png": "[encoded data removed]",
      "text/plain": [
       "<Figure size 800x800 with 1 Axes>"
      ]
     },
     "metadata": {},
     "output_type": "display_data"
    }
   ],
   "source": [
    "# Generación del diagrama de Venn que muestra las mutaciones deletéreas comunes y exclusivas de PatuT y PatuS.\n",
    "# Con un asterisco se resaltan aquellas que son de pérdida de función.\n",
    "\n",
    "plt.figure(figsize=(8,8))\n",
    "\n",
    "Inter_DMG_Diagram = venn2([PatuTDMGGenes, PatuSDMGGenes], ('PatuT', 'PatuS'), set_colors=('yellow','purple'))\n",
    "\n",
    "Inter_DMG_Diagram.get_label_by_id('10').set_text(PatuTDMGlabels)\n",
    "Inter_DMG_Diagram.get_label_by_id('01').set_text(PatuSDMGlabels)\n",
    "Inter_DMG_Diagram.get_label_by_id('11').set_text(InterDMGlabels)\n",
    "\n",
    "plt.title('Exclusive and Common Damaging Mutations is PatuT and PatuS')\n",
    "plt.savefig('DMGGene_Venn.png')\n",
    "\n",
    "plt.show()"
   ]
  },
  {
   "cell_type": "code",
   "execution_count": 73,
   "metadata": {},
   "outputs": [
    {
     "name": "stdout",
     "output_type": "stream",
     "text": [
      "            RNF223  PRKCZ  CHD5  NLRP3  GAB2  TMPRSS5  CHEK1  SLC15A5  GJB2  \\\n",
      "ACH-000023     0.0    2.0   2.0    1.0   0.0      1.0    0.0      2.0   1.0   \n",
      "ACH-000022     1.0    0.0   0.0    0.0   1.0      0.0    1.0      0.0   0.0   \n",
      "\n",
      "            TYRO3  ...  CYP1A2  TNS4  NRTN  PODNL1  ZNF132  LRP2  ZNF622  \\\n",
      "ACH-000023    0.0  ...     1.0   0.0   0.0     1.0     1.0   1.0     1.0   \n",
      "ACH-000022    1.0  ...     0.0   1.0   1.0     0.0     0.0   0.0     0.0   \n",
      "\n",
      "            CDH9  IQGAP2  OR2H1  \n",
      "ACH-000023   0.0     1.0    1.0  \n",
      "ACH-000022   1.0     0.0    0.0  \n",
      "\n",
      "[2 rows x 21 columns]\n"
     ]
    }
   ],
   "source": [
    "# Obtención de las mutaciones deletéreas que son exclusivas a PatuT y a PatuS en un mismo conjunto de datos.\n",
    "PatuDMGDiff = PatuMutationsDMGFilter.loc['ACH-000023'] != PatuMutationsDMGFilter.loc['ACH-000022']\n",
    "PatuMutationsDMGDiff = PatuMutationsDMGFilter.loc[:, PatuDMGDiff]\n",
    "print(PatuMutationsDMGDiff)"
   ]
  },
  {
   "cell_type": "code",
   "execution_count": 74,
   "metadata": {},
   "outputs": [
    {
     "data": {
      "image/png": "[encoded data removed]",
      "text/plain": [
       "<Figure size 1200x100 with 1 Axes>"
      ]
     },
     "metadata": {},
     "output_type": "display_data"
    }
   ],
   "source": [
    "# Representación de las frecuencias alélicas de las mutaciones exclusivas a PatuT y a PatuS.\n",
    "plt.figure(figsize=(12,1))\n",
    "sns.heatmap(PatuMutationsDMGDiff, cmap='viridis', annot=True, fmt=\".2f\", yticklabels=CellLines.values(), cbar = False)\n",
    "plt.title('Allele Frequency Differences between PatuT and PatuS Exclusive Damaging Mutations')\n",
    "plt.savefig('DMGMutation_Comparison.png', bbox_inches='tight')\n",
    "\n",
    "plt.show()"
   ]
  }
 ],
 "metadata": {
  "kernelspec": {
   "display_name": "Python 3",
   "language": "python",
   "name": "python3"
  },
  "language_info": {
   "codemirror_mode": {
    "name": "ipython",
    "version": 3
   },
   "file_extension": ".py",
   "mimetype": "text/x-python",
   "name": "python",
   "nbconvert_exporter": "python",
   "pygments_lexer": "ipython3",
   "version": "3.12.0"
  }
 },
 "nbformat": 4,
 "nbformat_minor": 2
}
